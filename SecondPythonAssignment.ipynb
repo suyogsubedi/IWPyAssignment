{
 "cells": [
  {
   "cell_type": "markdown",
   "metadata": {},
   "source": [
    "# 1. Create a variable, paragraph, that has the following content:\n",
    "\"Python is a great language!\", said Fred. \"I don't ever remember\n",
    "having this much fun before.\""
   ]
  },
  {
   "cell_type": "code",
   "execution_count": 7,
   "metadata": {},
   "outputs": [
    {
     "name": "stdout",
     "output_type": "stream",
     "text": [
      "Python is a great language!\", said Fred. \"I don't ever remember having this much fun before.\n"
     ]
    }
   ],
   "source": [
    "a=\"Python is a great language!\\\", said Fred. \\\"I don't ever remember having this much fun before.\"\n",
    "print(a)\n",
    "\n",
    "\n"
   ]
  },
  {
   "cell_type": "markdown",
   "metadata": {},
   "source": [
    "# 2. Write an if statement to determine whether a variable holding a year is a leap year."
   ]
  },
  {
   "cell_type": "code",
   "execution_count": 64,
   "metadata": {},
   "outputs": [
    {
     "name": "stdout",
     "output_type": "stream",
     "text": [
      "It was a leap year\n"
     ]
    }
   ],
   "source": [
    "def leapYearFinder(year):\n",
    "    recentLeapYear=2020\n",
    "    if year>recentLeapYear and (year-recentLeapYear)%4==0:\n",
    "        print(\"It is going to be a leap year. watch out for the extra day Ayy!!\")\n",
    "    elif (recentLeapYear-year)%4==0:\n",
    "        print(\"It was a leap year\")\n",
    "    else:\n",
    "        return \"Not a leap year\"\n",
    "\n",
    "leapYearFinder(2016)\n",
    "    \n",
    "\n",
    "\n"
   ]
  },
  {
   "cell_type": "code",
   "execution_count": null,
   "metadata": {},
   "outputs": [],
   "source": []
  },
  {
   "cell_type": "markdown",
   "metadata": {},
   "source": [
    "# 3. Write code that will print out the anagrams (words that use the same letters) from a paragraph of text."
   ]
  },
  {
   "cell_type": "code",
   "execution_count": null,
   "metadata": {},
   "outputs": [],
   "source": []
  },
  {
   "cell_type": "code",
   "execution_count": null,
   "metadata": {},
   "outputs": [],
   "source": []
  },
  {
   "cell_type": "code",
   "execution_count": null,
   "metadata": {},
   "outputs": [],
   "source": []
  },
  {
   "cell_type": "code",
   "execution_count": 92,
   "metadata": {},
   "outputs": [
    {
     "name": "stdout",
     "output_type": "stream",
     "text": [
      "True\n",
      "True\n"
     ]
    }
   ],
   "source": [
    "def is_anagram(str1, str2):\n",
    "    list_str1 = list(str1)\n",
    "    list_str1.sort()\n",
    "    list_str2 = list(str2)\n",
    "    list_str2.sort()\n",
    "\n",
    "    return (list_str1 == list_str2)\n",
    "\n",
    "print(is_anagram('anagram','nagaram'))\n",
    "print(is_anagram('low','owl'))"
   ]
  },
  {
   "cell_type": "markdown",
   "metadata": {},
   "source": [
    "# 4. Create a list. Append the names of your colleagues and friends to it. Has the id of the list changed? Sort the list. What is the first item on the list? What is the second item on the list?"
   ]
  },
  {
   "cell_type": "code",
   "execution_count": 84,
   "metadata": {},
   "outputs": [
    {
     "name": "stdout",
     "output_type": "stream",
     "text": [
      "---------------------__Before Sorting__--------------------------\n",
      "\n",
      "['Suyog', 'Ram', 'Kiran', 'Heera', 'Jim']\n",
      "\n",
      "The list is unchanged, items inserted using appeng gets added at the end of the list\n",
      "\n",
      "---------------------__After Sorting__--------------------------\n",
      "\n",
      "['Heera', 'Jim', 'Kiran', 'Ram', 'Suyog']\n",
      "---------------------__First Item__--------------------------\n",
      "\n",
      "Heera\n",
      "---------------------__Second Item__--------------------------\n",
      "\n",
      "Jim\n"
     ]
    }
   ],
   "source": [
    "friends=[]\n",
    "friends.append(\"Suyog\")\n",
    "friends.append(\"Ram\")\n",
    "friends.append(\"Kiran\")\n",
    "friends.append(\"Heera\")\n",
    "friends.append(\"Jim\")\n",
    "print(\"---------------------__Before Sorting__--------------------------\")\n",
    "print('')\n",
    "print(friends)\n",
    "print('')\n",
    "print(\"The list is unchanged, items inserted using appeng gets added at the end of the list\")\n",
    "print('')\n",
    "friends.sort()\n",
    "\n",
    "print(\"---------------------__After Sorting__--------------------------\")\n",
    "print('')\n",
    "print(friends)\n",
    "\n",
    "print(\"---------------------__First Item__--------------------------\")\n",
    "print('')\n",
    "print(friends[0])\n",
    "\n",
    "print(\"---------------------__Second Item__--------------------------\")\n",
    "print('')\n",
    "print(friends[1])"
   ]
  },
  {
   "cell_type": "markdown",
   "metadata": {},
   "source": [
    "# 5. Create a tuple with your first name, last name, and age. Create a list,people, and append your tuple to it. Make more tuples with the corresponding information from your friends and append them to thelist. Sort the list. When you learn about sort method, you can use thekey parameter to sort by any field in the tuple, first name, last name,or age."
   ]
  },
  {
   "cell_type": "code",
   "execution_count": 90,
   "metadata": {},
   "outputs": [],
   "source": [
    "details=[(\"Suyog\",\"Subedi\",\"19\")]\n",
    "\n"
   ]
  },
  {
   "cell_type": "code",
   "execution_count": null,
   "metadata": {},
   "outputs": [],
   "source": []
  },
  {
   "cell_type": "markdown",
   "metadata": {},
   "source": [
    "# 6. Create a list with the names of friends and colleagues. Search for the name ‘John’ using a for a loop. Print ‘not found’ if you didn't find it."
   ]
  },
  {
   "cell_type": "code",
   "execution_count": null,
   "metadata": {},
   "outputs": [],
   "source": []
  },
  {
   "cell_type": "code",
   "execution_count": 1,
   "metadata": {},
   "outputs": [
    {
     "name": "stdout",
     "output_type": "stream",
     "text": [
      "John found\n"
     ]
    }
   ],
   "source": [
    "def personChecker(person):\n",
    "    friends=[\"Suyog\",\"Ayush\",\"Rameswor\",\"John\"]\n",
    "    \n",
    "    foundValues=[]\n",
    "    \n",
    "    for i in friends:\n",
    "        if i != person:\n",
    "            pass\n",
    "        else:\n",
    "            foundValues.append(\"found\")\n",
    "    if foundValues:\n",
    "        print(person,\"found\")\n",
    "    else:\n",
    "        print(person, \"not Found\")\n",
    "\n",
    "\n",
    "        \n",
    "personChecker(\"John\")\n",
    "\n",
    "\n"
   ]
  },
  {
   "cell_type": "markdown",
   "metadata": {},
   "source": [
    "# 7. Create a list of tuples of first name, last name, and age for your friends and colleagues. If you don't know the age, put in None.\n",
    "\n",
    "# Calculate the average age, skipping over any None values. Print out each name, followed by old or young if they are above or below the average age."
   ]
  },
  {
   "cell_type": "code",
   "execution_count": 2,
   "metadata": {},
   "outputs": [
    {
     "name": "stdout",
     "output_type": "stream",
     "text": [
      "28.666666666666668\n"
     ]
    }
   ],
   "source": [
    "tuples=((\"Suyog\",\"Subedi\",19),(\"Shyam\",\"Gyawali\",29),(\"Shahid\",\"Afridi\",38))\n",
    "# print(sorted(tuples))\n",
    "\n",
    "tupleLength=len(tuples)\n",
    "ages=[]\n",
    "for i in tuples:\n",
    "    a=i[-1]\n",
    "    ages.append(i[-1])\n",
    "    average=sum(ages)/tupleLength\n",
    "    \n",
    "    if average>a:\n",
    "        print(\"Young\")\n",
    "\n",
    "print(average)\n",
    "    "
   ]
  },
  {
   "cell_type": "code",
   "execution_count": 61,
   "metadata": {},
   "outputs": [
    {
     "name": "stdout",
     "output_type": "stream",
     "text": [
      "('apple', 'banana', 'cherry')\n"
     ]
    }
   ],
   "source": [
    "thistuple = (\"apple\", \"banana\", \"cherry\")\n",
    "print(thistuple)"
   ]
  },
  {
   "cell_type": "markdown",
   "metadata": {},
   "source": [
    "markdown"
   ]
  },
  {
   "cell_type": "code",
   "execution_count": null,
   "metadata": {},
   "outputs": [],
   "source": []
  },
  {
   "cell_type": "markdown",
   "metadata": {},
   "source": [
    "# 8. Write a function, is_prime, that takes an integer and returns True if the number is prime and False if the number is not prime."
   ]
  },
  {
   "cell_type": "code",
   "execution_count": 190,
   "metadata": {},
   "outputs": [
    {
     "name": "stdout",
     "output_type": "stream",
     "text": [
      "Its a prime\n"
     ]
    }
   ],
   "source": [
    "def is_prime(num):\n",
    "    for i in range(2,num):\n",
    "        if num%i==0:\n",
    "            print(\"Not Prime\")\n",
    "            break\n",
    "        else:\n",
    "            print(\"Its a prime\")\n",
    "            break\n",
    "is_prime(5)"
   ]
  },
  {
   "cell_type": "code",
   "execution_count": null,
   "metadata": {},
   "outputs": [],
   "source": []
  },
  {
   "cell_type": "markdown",
   "metadata": {},
   "source": [
    "# 9. Write a binary search function. It should take a sorted sequence and the item it is looking for. It should return the index of the item if found. It should return -1 if the item is not found."
   ]
  },
  {
   "cell_type": "code",
   "execution_count": null,
   "metadata": {},
   "outputs": [],
   "source": []
  },
  {
   "cell_type": "code",
   "execution_count": 4,
   "metadata": {},
   "outputs": [
    {
     "name": "stdout",
     "output_type": "stream",
     "text": [
      "False\n",
      "True\n"
     ]
    }
   ],
   "source": [
    "def binary_search(item_list,item):\n",
    "    first = 0\n",
    "    last = len(item_list)-1\n",
    "    found = False\n",
    "    while( first<=last and not found):\n",
    "        mid = (first + last)//2\n",
    "        if item_list[mid] == item :\n",
    "            found = True\n",
    "        else:\n",
    "            if item < item_list[mid]:\n",
    "                last = mid - 1\n",
    "            else:\n",
    "                first = mid + 1\t\n",
    "    return found\n",
    "\n",
    "print(binary_search([1,2,3,5,8], 6))\n",
    "print(binary_search([1,2,3,5,8], 5))"
   ]
  },
  {
   "cell_type": "code",
   "execution_count": null,
   "metadata": {},
   "outputs": [],
   "source": []
  },
  {
   "cell_type": "markdown",
   "metadata": {},
   "source": [
    "# 10. Write a function that takes camel-cased strings (i.e. ThisIsCamelCased), and converts them to snake case (i.e. this_is_camel_cased). Modify the function by adding an argument, separator, so it will also convert to the kebab case (i.e.this-is-camel-case) as well."
   ]
  },
  {
   "cell_type": "code",
   "execution_count": 42,
   "metadata": {},
   "outputs": [
    {
     "name": "stdout",
     "output_type": "stream",
     "text": [
      "t_h_i_s\n"
     ]
    }
   ],
   "source": [
    "def change_case(str): \n",
    "      \n",
    "    return ''.join(['_'+i.lower() if i.isupper()  \n",
    "               else i for i in str]).lstrip('_') \n",
    "      \n",
    "\n",
    "print(change_case(''))"
   ]
  },
  {
   "cell_type": "code",
   "execution_count": 33,
   "metadata": {},
   "outputs": [
    {
     "name": "stdout",
     "output_type": "stream",
     "text": [
      "geeks_for_geeks_g\n"
     ]
    }
   ],
   "source": []
  },
  {
   "cell_type": "markdown",
   "metadata": {},
   "source": [
    "## 11. Create a variable, filename. Assuming that it has a three-letter extension, and using slice operations, find the extension. For README.txt, the extension should be txt. Write code using slice operations that will give the name without the extension. Does your code work on filenames of arbitrary length?"
   ]
  },
  {
   "cell_type": "code",
   "execution_count": 59,
   "metadata": {},
   "outputs": [
    {
     "name": "stdout",
     "output_type": "stream",
     "text": [
      "The extension is  .txt\n"
     ]
    }
   ],
   "source": [
    "a='readme.txt'\n",
    "indexOfDot=a.index('.')\n",
    "print(f\"The extension is  {a[indexOfDot:]}\")"
   ]
  },
  {
   "cell_type": "code",
   "execution_count": null,
   "metadata": {},
   "outputs": [],
   "source": []
  },
  {
   "cell_type": "markdown",
   "metadata": {},
   "source": [
    "# 12. Create a function, is_palindrome, to determine if a supplied word is the same if the letters are reversed."
   ]
  },
  {
   "cell_type": "code",
   "execution_count": 237,
   "metadata": {},
   "outputs": [],
   "source": [
    "def is_palindrome(string):\n",
    "    reverse=string[::-1]\n",
    "    if string == reverse:\n",
    "        print(f\"{string} is pallindrome\")\n",
    "\n",
    "is_palindrome('143')\n",
    "\n"
   ]
  },
  {
   "cell_type": "markdown",
   "metadata": {},
   "source": []
  },
  {
   "cell_type": "code",
   "execution_count": null,
   "metadata": {},
   "outputs": [],
   "source": []
  },
  {
   "cell_type": "markdown",
   "metadata": {},
   "source": [
    "##  13. Write a function to write a comma-separated value (CSV) file. Itshould accept a filename and a list of tuples as parameters. The tuples should have a name, address, and age. The file should create a header row followed by a row for each tuple. If the following list of tuples was passed in:\n",
    "[('George', '4312 Abbey Road', 22), ('John', '54 Love Ave', 21)]\n",
    "\n",
    "it should write the following in the file:\n",
    "name,address,age\n",
    "\n",
    "George,4312 Abbey Road,22John,54 Love Ave,21"
   ]
  },
  {
   "cell_type": "code",
   "execution_count": null,
   "metadata": {},
   "outputs": [],
   "source": []
  },
  {
   "cell_type": "markdown",
   "metadata": {},
   "source": [
    "## 15. Imagine you are designing a banking application. What would a customer look like? What attributes would she have? What methods would she have?"
   ]
  },
  {
   "cell_type": "code",
   "execution_count": 136,
   "metadata": {},
   "outputs": [
    {
     "name": "stdout",
     "output_type": "stream",
     "text": [
      "Enter your old pin2020\n",
      "Enter a new pin2021\n"
     ]
    },
    {
     "data": {
      "text/plain": [
       "'Your pin is 2021'"
      ]
     },
     "execution_count": 136,
     "metadata": {},
     "output_type": "execute_result"
    }
   ],
   "source": [
    "class BankingApp():\n",
    "    def __init__(self,name,balance,pinKey):\n",
    "        self.name=name\n",
    "        self.balance=balance\n",
    "        self.pinKey=pinKey\n",
    "    def checkBalance(self):\n",
    "        print(f\"Current Balance of {self.name} \")\n",
    "        print(f\"Rs. {self.balance}\")\n",
    "    def withdrawMoney(self,amount):\n",
    "        print(f\"You withdrawed Rs{amount}, Now your balance is {self.balance-amount}\")\n",
    "        self.balance=self.balance-amount\n",
    "    def currentPin(self):\n",
    "        return f\"Your pin is {self.pinKey}\"\n",
    "    def changePin(self):\n",
    "        previousPin=int(input(\"Enter your old pin\"))\n",
    "        if previousPin == self.pinKey:\n",
    "            newPin=int(input(\"Enter a new pin\"))\n",
    "            self.pinKey=newPin\n",
    "\n",
    "user1= BankingApp(\"suyog\",\"5000\",2020)\n",
    "user1.pinKey\n",
    "user1.changePin()\n",
    "user1.currentPin()\n",
    "\n"
   ]
  },
  {
   "cell_type": "code",
   "execution_count": 139,
   "metadata": {},
   "outputs": [
    {
     "data": {
      "text/plain": [
       "'Your pin is 2021'"
      ]
     },
     "execution_count": 139,
     "metadata": {},
     "output_type": "execute_result"
    }
   ],
   "source": [
    "user1.pinKey\n",
    "user1.currentPin()"
   ]
  },
  {
   "cell_type": "markdown",
   "metadata": {},
   "source": [
    "## 16. Imagine you are creating a Super Mario game. You need to define a class to represent Mario. What would it look like? If you aren't familiar with SuperMario, use your own favorite video or board game to model a playe"
   ]
  },
  {
   "cell_type": "code",
   "execution_count": 194,
   "metadata": {},
   "outputs": [],
   "source": [
    "class MarioTime():\n",
    "    def __init__(self,profession):\n",
    "        self.level= 1\n",
    "        self.life=3\n",
    "        self.profession=profession\n",
    "        self.cheat=100\n",
    "        \n",
    "    def levelUp(self):\n",
    "         self.level = self.level + 1\n",
    "    def profession(self):\n",
    "        return f\"You're {self.profession} Mario\" \n",
    "    def marioKilled(self):\n",
    "        self.life= self.life-1\n",
    "        \n",
    "        if self.life==0:\n",
    "            return f\"Game Over!!\"\n",
    "    def cheatCode(self):\n",
    "        self.life=self.cheat\n",
    "\n",
    "user1= MarioTime(\"Plumber\")\n",
    "\n",
    "\n",
    "\n",
    "\n",
    "\n",
    "\n",
    "        \n",
    "        \n",
    "        \n",
    "    "
   ]
  },
  {
   "cell_type": "markdown",
   "metadata": {},
   "source": [
    "##  17. Write a program that serves as a basic calculator. It asks for two numbers, then it asks for an operator. Gracefully deal with input that doesn't cleanly convert to numbers. Deal with division by zero errors."
   ]
  },
  {
   "cell_type": "code",
   "execution_count": 236,
   "metadata": {},
   "outputs": [
    {
     "name": "stdout",
     "output_type": "stream",
     "text": [
      "enter a number 5\n",
      "Enter another number 0\n",
      "Enter operator/\n",
      "Cannot divide by zero\n"
     ]
    }
   ],
   "source": [
    "try:\n",
    "    a = int(input(\"enter a number \"))\n",
    "except:\n",
    "    print(\"Check input again\")\n",
    "\n",
    "\n",
    "b = int(input(\"Enter another number \"))\n",
    "c = input(\"Enter operator\")\n",
    "if c == '+':\n",
    "\n",
    "    print(a+b)\n",
    "\n",
    "\n",
    "if c == '-':\n",
    "    print(a-b)\n",
    "if c == '*':\n",
    "    print(a*b)\n",
    "if c == '/':\n",
    "    try:\n",
    "\n",
    "        print(a/b)\n",
    "    except ZeroDivisionError:\n",
    "        print(\"Cannot divide by zero\")\n"
   ]
  },
  {
   "cell_type": "code",
   "execution_count": null,
   "metadata": {},
   "outputs": [],
   "source": []
  },
  {
   "cell_type": "code",
   "execution_count": null,
   "metadata": {},
   "outputs": [],
   "source": []
  },
  {
   "cell_type": "markdown",
   "metadata": {},
   "source": [
    "## 18. Find a package in the Python standard library for dealing with JSON. Import the library module and inspect the attributes of the module. Use the help function to learn more about how to use the module. Serialize a dictionary mapping 'name' to your name and 'age' to your age, to a JSON string. Deserialize the JSON back into Python"
   ]
  },
  {
   "cell_type": "code",
   "execution_count": null,
   "metadata": {},
   "outputs": [],
   "source": []
  },
  {
   "cell_type": "code",
   "execution_count": null,
   "metadata": {},
   "outputs": [],
   "source": []
  },
  {
   "cell_type": "code",
   "execution_count": null,
   "metadata": {},
   "outputs": [],
   "source": []
  },
  {
   "cell_type": "markdown",
   "metadata": {},
   "source": [
    "## 19. Write a Python class to find validity of a string of parentheses, '(',')', '{', '}', '[' and ']. These brackets must be close in the correct order,\n",
    "\n",
    "for example \"()\" and \"()[]{}\" are valid but \"[)\", \"({[)]\" and \"{{{\" are invalid\n",
    "\n"
   ]
  },
  {
   "cell_type": "code",
   "execution_count": 239,
   "metadata": {},
   "outputs": [],
   "source": [
    "# open_list = [\"[\",\"{\",\"(\"] \n",
    "# close_list = [\"]\",\"}\",\")\"] \n",
    "  \n",
    "# # Function to check parentheses \n",
    "# def check(myStr): \n",
    "#     stack = [] \n",
    "#     for i in myStr: \n",
    "#         if i in open_list: \n",
    "#             stack.append(i) \n",
    "#         elif i in close_list: \n",
    "#             pos = close_list.index(i) \n",
    "#             if ((len(stack) > 0) and\n",
    "#                 (open_list[pos] == stack[len(stack)-1])): \n",
    "#                 stack.pop() \n",
    "#             else: \n",
    "#                 return \"Unbalanced\"\n",
    "#     if len(stack) == 0: \n",
    "#         return \"Balanced\"\n",
    "#     else: \n",
    "#         return \"Unbalanced\"\n"
   ]
  },
  {
   "cell_type": "code",
   "execution_count": null,
   "metadata": {},
   "outputs": [],
   "source": []
  },
  {
   "cell_type": "markdown",
   "metadata": {},
   "source": [
    "## 20. Write a Python class to find the three elements that sum to zero\n",
    "\n",
    "from a list of n real numbers.\n",
    "\n",
    "Input array : [-25, -10, -7, -3, 2, 4, 8, 10]\n",
    "\n",
    "Output : [[-10, 2, 8], [-7, -3, 10]]"
   ]
  },
  {
   "cell_type": "code",
   "execution_count": null,
   "metadata": {},
   "outputs": [],
   "source": []
  }
 ],
 "metadata": {
  "kernelspec": {
   "display_name": "Python 3",
   "language": "python",
   "name": "python3"
  },
  "language_info": {
   "codemirror_mode": {
    "name": "ipython",
    "version": 3
   },
   "file_extension": ".py",
   "mimetype": "text/x-python",
   "name": "python",
   "nbconvert_exporter": "python",
   "pygments_lexer": "ipython3",
   "version": "3.8.2"
  }
 },
 "nbformat": 4,
 "nbformat_minor": 4
}
