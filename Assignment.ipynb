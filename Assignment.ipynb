{
 "cells": [
  {
   "cell_type": "markdown",
   "metadata": {},
   "source": [
    "# Data Types"
   ]
  },
  {
   "cell_type": "markdown",
   "metadata": {},
   "source": [
    "# Question 1\n",
    " 1.​ Write a Python program to count the number of characters (character\n",
    " frequency) in a string. Sample String : google.com'\n",
    " Expected Result : {'o': 3, 'g': 2, '.': 1, 'e': 1, 'l': 1, 'm': 1, 'c': 1}\n"
   ]
  },
  {
   "cell_type": "code",
   "execution_count": 1,
   "metadata": {},
   "outputs": [
    {
     "name": "stdout",
     "output_type": "stream",
     "text": [
      "Counter({'o': 3, 'g': 2, 'l': 1, 'e': 1, '.': 1, 'c': 1, 'm': 1})\n"
     ]
    }
   ],
   "source": [
    "# Solution\n",
    "\n",
    "# Importing Counter\n",
    "from collections import Counter\n",
    "\n",
    "# String that i want to count\n",
    "\n",
    "stringToCount = \"google.com\"\n",
    "\n",
    "# Converting to Lower case so that the lower and capital letters wont be counter differently\n",
    "string = stringToCount.lower()\n",
    "\n",
    "# using the counter\n",
    "print(Counter(string))\n",
    "\n"
   ]
  },
  {
   "cell_type": "markdown",
   "metadata": {},
   "source": [
    "# 2.​ Write a Python program to get a string made of the first 2 and the last 2 chars from a given a string. If the string length is less than 2, return  empty string.\n",
    "\n",
    "\n",
    "\n",
    "    Sample String : 'Python'\n",
    "    Expected Result : 'Pyon'\n",
    "    Sample String : 'Py'\n",
    "    Expected Result : 'PyPy'\n",
    "    Sample String : ' w'\n",
    "    "
   ]
  },
  {
   "cell_type": "code",
   "execution_count": 2,
   "metadata": {},
   "outputs": [
    {
     "name": "stdout",
     "output_type": "stream",
     "text": [
      "suog\n"
     ]
    }
   ],
   "source": [
    "\"\"\"\n",
    "sampleString expected to be a string\n",
    "checking the legth of the sampleString\n",
    "if condition is true \n",
    "printing first two charactes and the last two characters\n",
    "if condition not true\n",
    "Tell the user to enter atleast two characters\n",
    "\"\"\"\n",
    "sampleString=\"suyog\"\n",
    "\n",
    "length= len(sampleString)\n",
    "if length>=2:\n",
    "    print(sampleString[:2] + sampleString[-2:]) \n",
    "else:\n",
    "    print(\"\")\n",
    "    print(f\"oops!! {length} character found \")\n",
    "    print(\"Enter atleast 2 characters\")"
   ]
  },
  {
   "cell_type": "markdown",
   "metadata": {},
   "source": [
    "# 3. Write a Python program to get a string from a given string where all occurrences of its first char have been changed to '$', except the first char itself.\n",
    "\n",
    "Sample String : 'restart'\n",
    "\n",
    "Expected Result : 'resta$t'"
   ]
  },
  {
   "cell_type": "code",
   "execution_count": 3,
   "metadata": {},
   "outputs": [
    {
     "name": "stdout",
     "output_type": "stream",
     "text": [
      "resta$t\n"
     ]
    }
   ],
   "source": [
    "def change_char(str1):\n",
    "  char = str1[0]\n",
    "  str1 = str1.replace(char, '$')\n",
    "  str1 = char + str1[1:]\n",
    "\n",
    "  return str1\n",
    "\n",
    "print(change_char('restart'))"
   ]
  },
  {
   "cell_type": "code",
   "execution_count": 4,
   "metadata": {},
   "outputs": [
    {
     "name": "stdout",
     "output_type": "stream",
     "text": [
      "resta$t\n"
     ]
    }
   ],
   "source": [
    "word=\"restart\".lower()\n",
    "firstWord=word[0]\n",
    "remainingWord=word[1:]\n",
    "\n",
    "replace=remainingWord.replace(firstWord,\"$\")\n",
    "print(firstWord+replace)"
   ]
  },
  {
   "cell_type": "markdown",
   "metadata": {},
   "source": [
    "# 4.​ Write a Python program to get a single string from two given strings, separated by a space and swap the first two characters of each string.\n",
    "\n",
    "Sample String : 'abc', 'xyz'\n",
    "\n",
    "Expected Result : 'xyc abz'"
   ]
  },
  {
   "cell_type": "code",
   "execution_count": 5,
   "metadata": {},
   "outputs": [
    {
     "data": {
      "text/plain": [
       "'xyc abz'"
      ]
     },
     "execution_count": 5,
     "metadata": {},
     "output_type": "execute_result"
    }
   ],
   "source": [
    "\"\"\"\n",
    "swap is expecting two strings separeted by a \",\"\n",
    "taking the first two letters from the both input strings\n",
    "\n",
    "taking the remaining letters from the string from the both input strings\n",
    "\n",
    "swapping the first two letters from the given string\n",
    "\n",
    "joining both the output by a space\n",
    "\"\"\"\n",
    "swap=\"abc\", \"xyz\"\n",
    "firstTwo= swap[0][0:2]\n",
    "secondTwo=swap[1][0:2]\n",
    "firstRemaining=swap[0][2:]\n",
    "secondRemaining=swap[1][2:]\n",
    "result=secondTwo+firstRemaining,firstTwo+secondRemaining\n",
    "' '.join(result)\n",
    "\n",
    "\n",
    "\n",
    "\n",
    "\n"
   ]
  },
  {
   "cell_type": "code",
   "execution_count": 6,
   "metadata": {},
   "outputs": [
    {
     "name": "stdout",
     "output_type": "stream",
     "text": [
      "8\n",
      "edi\n",
      "edi\n",
      "Enter a number5\n",
      "Enter a number4\n"
     ]
    },
    {
     "data": {
      "text/plain": [
       "9"
      ]
     },
     "execution_count": 6,
     "metadata": {},
     "output_type": "execute_result"
    }
   ],
   "source": [
    "# Rough\n",
    "a=\"suyogsubedi\"\n",
    "length=len(a)\n",
    "lastThree=length-3\n",
    "print(lastThree)\n",
    "print(a[lastThree:])\n",
    "print(a[-3::])\n",
    "\n",
    "def add():\n",
    "    a=int(input(\"Enter a number\"))\n",
    "    b=int(input(\"Enter a number\"))\n",
    "    return a+b\n",
    "add()\n",
    "\n"
   ]
  },
  {
   "cell_type": "markdown",
   "metadata": {},
   "source": [
    "\n",
    "# 5.​ Write a Python program to add 'ing' at the end of a given string (length should be at least 3). If the given string already ends with 'ing' then add 'ly' instead. If the string length of the given string is less than 3, leave it unchanged.\n",
    "\n",
    "Sample String : 'abc'\n",
    "\n",
    "Expected Result : 'abcing'\n",
    "\n",
    "Sample String : 'string'\n",
    "\n",
    "Expected Result : 'stringly'"
   ]
  },
  {
   "cell_type": "code",
   "execution_count": 7,
   "metadata": {},
   "outputs": [
    {
     "name": "stdout",
     "output_type": "stream",
     "text": [
      "abcingly\n"
     ]
    }
   ],
   "source": [
    "\"\"\"\n",
    "name is expecting a string\n",
    "checking the lenght of the name\n",
    "\n",
    "storing the index of last three words\n",
    "storing the last last three words\n",
    "\n",
    "setting up a condition according to the questions\n",
    "\"\"\"\n",
    "name='abcing'\n",
    "length=len(name)\n",
    "\n",
    "lastThree= length-3\n",
    "lastThreeWords=name[lastThree::]\n",
    "\n",
    "\n",
    "if len(name)>=3 and lastThreeWords=='ing':\n",
    "    print(f\"{name}ly\")\n",
    "elif len(name)>=3 :\n",
    "    print(f\"{name}ing\")\n",
    "else:\n",
    "    print(f\"{name}\")"
   ]
  },
  {
   "cell_type": "code",
   "execution_count": null,
   "metadata": {},
   "outputs": [],
   "source": []
  },
  {
   "cell_type": "markdown",
   "metadata": {},
   "source": [
    "# 6.​ Write a Python program to find the first appearance of the substring 'not' and 'poor' from a given string, if 'not' follows the 'poor', replace the whole 'not'...'poor'substring with 'good'. Return the resulting string.\n",
    "\n",
    "\n",
    "Sample String : 'The lyrics is not that poor!'\n",
    "\n",
    "'The lyrics is poor!'\n",
    "\n",
    "Expected Result : 'The lyrics is good!'\n",
    "\n",
    "'The lyrics is poor!'"
   ]
  },
  {
   "cell_type": "code",
   "execution_count": 175,
   "metadata": {},
   "outputs": [
    {
     "name": "stdout",
     "output_type": "stream",
     "text": [
      "The lyrics is good!\n",
      "The lyrics is poor!\n"
     ]
    }
   ],
   "source": [
    "def not_poor(sentence):\n",
    "  wordNot = sentence.find('not')\n",
    "  wordPoor = sentence.find('poor')\n",
    "  \n",
    "\n",
    "  if wordPoor > wordNot and wordNot>0 and wordPoor>0:\n",
    "    sentence = sentence.replace(sentence[wordNot:(wordPoor+4)], 'good')\n",
    "    return sentence\n",
    "  else:\n",
    "    return sentence\n",
    "print(not_poor('The lyrics is not that poor!'))\n",
    "print(not_poor('The lyrics is poor!'))"
   ]
  },
  {
   "cell_type": "code",
   "execution_count": null,
   "metadata": {},
   "outputs": [],
   "source": []
  },
  {
   "cell_type": "markdown",
   "metadata": {},
   "source": [
    "# 7. ​ Write a Python function that takes a list of words and returns the length of the longest one.\n"
   ]
  },
  {
   "cell_type": "code",
   "execution_count": 9,
   "metadata": {},
   "outputs": [
    {
     "data": {
      "text/plain": [
       "'The longest word has 8 characters '"
      ]
     },
     "execution_count": 9,
     "metadata": {},
     "output_type": "execute_result"
    }
   ],
   "source": [
    "def longest(*args):\n",
    "    \"\"\"\n",
    "    the argument here expected here are strings\n",
    "    making an empty list which later will store the all the lengths of the given strings\n",
    "    \n",
    "    looping over every argument that is provided by the user\n",
    "    checking the length of every parameters provided by the user\n",
    "    adding the length of the character to the lenght list which we made\n",
    "    \n",
    "    Sorting the lengths list\n",
    "    the greatest value will be stored at the end because sort by default stores from ascending to descending order\n",
    "    \n",
    "    returning the longest words\n",
    "    \"\"\"\n",
    "    lengths=[]\n",
    "    for length in args:\n",
    "        characters=len(length)\n",
    "        lengths.append(characters)\n",
    "        lengths.sort()\n",
    "    return f\"The longest word has {lengths[-1]} characters \"\n",
    "\n",
    "\n",
    "longest(\"suyog\",\"suyogaaa\",\"hello\")\n",
    "        \n",
    "        \n",
    "  \n",
    "   \n",
    "\n",
    "\n",
    "    \n",
    "    "
   ]
  },
  {
   "cell_type": "code",
   "execution_count": 11,
   "metadata": {},
   "outputs": [
    {
     "name": "stdout",
     "output_type": "stream",
     "text": [
      "Enter a string suyog\n",
      "index letter to be removed 0\n",
      "uyog\n"
     ]
    }
   ],
   "source": [
    "def removerLite():\n",
    "    \n",
    "    \n",
    "        userInput= str(input(\"Enter a string \"))\n",
    "        indexPosition=int(input(\"index letter to be removed \"))\n",
    "        try:\n",
    "            print(userInput.replace(userInput[indexPosition],''))\n",
    "            \n",
    "            \n",
    "        except:\n",
    "            print(\"Input Wrong\")\n",
    "            removerLite()\n",
    "            \n",
    "        \n",
    "        \n",
    "removerLite()"
   ]
  },
  {
   "cell_type": "markdown",
   "metadata": {},
   "source": [
    "# 8. ​ Write a Python program to remove the n​ th​ index character from a non empty string.\n"
   ]
  },
  {
   "cell_type": "code",
   "execution_count": null,
   "metadata": {},
   "outputs": [],
   "source": [
    "def remover(string,index):\n",
    "    if index>len(string):\n",
    "        print(\"the given index position is larger than the number\")\n",
    "    else:\n",
    "        print(string.replace(string[index],''))\n",
    "remover(\"suyog\",0)\n",
    "\n",
    "        "
   ]
  },
  {
   "cell_type": "markdown",
   "metadata": {},
   "source": [
    "# 9. ​ Write a Python program to change a given string to a new string where the first and last chars have been exchanged.\n"
   ]
  },
  {
   "cell_type": "code",
   "execution_count": null,
   "metadata": {},
   "outputs": [],
   "source": [
    "def exchanger(string):\n",
    "    \"\"\"\n",
    "    the parameter is expected to be a string\n",
    "    we have stored the first word and last word separately\n",
    "    \n",
    "    while taking the words from the middle we are saying i want word from index 1 to -1, the last word isn't -1 \n",
    "    in this case because the statement means upto -1, not including -1\n",
    "    \"\"\"\n",
    "    firstWord=string[0]\n",
    "    lastWord=string[-1]\n",
    "    middleWords=string[1:-1]\n",
    "    return  lastWord+ middleWords + firstWord \n",
    "exchanger(\"Amsterdam\")\n",
    "    \n",
    "\n"
   ]
  },
  {
   "cell_type": "markdown",
   "metadata": {},
   "source": [
    "# 10. ​ Write a Python program to remove the characters which have odd index values of a given string."
   ]
  },
  {
   "cell_type": "code",
   "execution_count": null,
   "metadata": {},
   "outputs": [],
   "source": [
    "def theOddSlayer(userInput):\n",
    "    splitting=list(userInput)\n",
    "    \n",
    "    counter=0\n",
    "    for i in splitting:\n",
    "        counter=counter+1\n",
    "        if counter%2==0:\n",
    "            print(counter, i) \n",
    "                \n",
    "theOddSlayer(\"HelloWorld\")"
   ]
  },
  {
   "cell_type": "markdown",
   "metadata": {},
   "source": [
    "# 11. ​ Write a Python program to count the occurrences of each word in a given sentence."
   ]
  },
  {
   "cell_type": "code",
   "execution_count": null,
   "metadata": {},
   "outputs": [],
   "source": [
    "def word_count(str):\n",
    "    counts = dict()\n",
    "    words = str.split()\n",
    "\n",
    "    for word in words:\n",
    "        if word in counts:\n",
    "            counts[word] += 1\n",
    "        else:\n",
    "            counts[word] = 1\n",
    "\n",
    "    return counts\n",
    "word_count(\"suyog is \")\n"
   ]
  },
  {
   "cell_type": "code",
   "execution_count": null,
   "metadata": {},
   "outputs": [],
   "source": []
  },
  {
   "cell_type": "code",
   "execution_count": null,
   "metadata": {},
   "outputs": [],
   "source": []
  },
  {
   "cell_type": "markdown",
   "metadata": {},
   "source": [
    "# 12. ​ Write a Python script that takes input from the user and displays that input back in upper and lower cases."
   ]
  },
  {
   "cell_type": "code",
   "execution_count": null,
   "metadata": {},
   "outputs": [],
   "source": [
    "def theConverter():\n",
    "    word=str(input(\"enter a string\"))\n",
    "    print(\"ALL CAPS!!!----\", word.upper())\n",
    "    print(\"all low!!!----\", word.lower())\n",
    "theConverter()\n",
    "    "
   ]
  },
  {
   "cell_type": "code",
   "execution_count": null,
   "metadata": {},
   "outputs": [],
   "source": []
  },
  {
   "cell_type": "markdown",
   "metadata": {},
   "source": [
    "#  13. Write a Python program that accepts a comma separated sequence of words as input and prints the unique words in sorted form (alphanumerically).\n",
    "\n",
    "Sample Words : red, white, black, red, green, black\n",
    "\n",
    "Expected Result : black, green, red, white,red"
   ]
  },
  {
   "cell_type": "code",
   "execution_count": null,
   "metadata": {},
   "outputs": [],
   "source": [
    "def theColorSeperator(*args):\n",
    "    colors=[]\n",
    "    for i in args:\n",
    "        colors.append(i)\n",
    "        colors.sort()\n",
    "    print(colors)\n",
    "    \n",
    "    \n",
    "    \n",
    "theColorSeperator(\"red\",\"black\",\"white\",  \"green\")"
   ]
  },
  {
   "cell_type": "code",
   "execution_count": null,
   "metadata": {},
   "outputs": [],
   "source": [
    "\n"
   ]
  },
  {
   "cell_type": "markdown",
   "metadata": {},
   "source": [
    "# 14.​ Write a Python function to create the HTML string with tags around theword(s).\n",
    "\n",
    "\n",
    "Sample function and result :add_tags('i', 'Python') -> '< i>Python< /i>'\n",
    "\n",
    "\n",
    "add_tags('b', 'Python Tutorial') -> < b>Python Tutorial < /b>"
   ]
  },
  {
   "cell_type": "code",
   "execution_count": null,
   "metadata": {},
   "outputs": [],
   "source": [
    "def theTagAdder(tag,word):\n",
    "    return f\"<{tag}> {word} </{tag}>\"\n",
    "theTagAdder(\"i\",\"Hello World\")\n",
    "\n"
   ]
  },
  {
   "cell_type": "code",
   "execution_count": null,
   "metadata": {},
   "outputs": [],
   "source": []
  },
  {
   "cell_type": "markdown",
   "metadata": {},
   "source": [
    "# 15.​ Write a Python function to insert a string in the middle of a string. Sample function and result :\n",
    "\n",
    "insert_sting_middle('[[]]<<>>', 'Python') -> [[Python]]\n",
    "\n",
    "insert_sting_middle('{{}}', 'PHP') -> {{PHP}}"
   ]
  },
  {
   "cell_type": "code",
   "execution_count": 50,
   "metadata": {},
   "outputs": [
    {
     "data": {
      "text/plain": [
       "'[[Python]]'"
      ]
     },
     "execution_count": 50,
     "metadata": {},
     "output_type": "execute_result"
    }
   ],
   "source": [
    "def middlestringInserter(brackets,value):\n",
    "    return brackets[:2] + value + brackets[2:]\n",
    "middlestringInserter(\"[[]]\",\"PHP\")\n",
    "middlestringInserter('[[]]', 'Python') "
   ]
  },
  {
   "cell_type": "code",
   "execution_count": null,
   "metadata": {},
   "outputs": [],
   "source": []
  },
  {
   "cell_type": "markdown",
   "metadata": {},
   "source": [
    "# 16.​ Write a Python program to sum all the items in a list."
   ]
  },
  {
   "cell_type": "code",
   "execution_count": null,
   "metadata": {},
   "outputs": [],
   "source": [
    "def theAdder(*args):\n",
    "    return sum(args)\n",
    "theAdder(5,7,8)"
   ]
  },
  {
   "cell_type": "markdown",
   "metadata": {},
   "source": [
    "# 17.​ Write a Python program to multiplies all the items in a list."
   ]
  },
  {
   "cell_type": "code",
   "execution_count": null,
   "metadata": {},
   "outputs": [],
   "source": [
    "def theMultiplier(*args):\n",
    "    value = 1\n",
    "    for i in args:\n",
    "        value=value*i\n",
    "    print(value)\n",
    "        \n",
    "theMultiplier(5,5,4)"
   ]
  },
  {
   "cell_type": "markdown",
   "metadata": {},
   "source": [
    "# 18.​ Write a Python program to get the largest number from a list."
   ]
  },
  {
   "cell_type": "code",
   "execution_count": null,
   "metadata": {},
   "outputs": [],
   "source": [
    "def larger(*args):\n",
    "    numberCollector=[]\n",
    "    for i in args:\n",
    "        numberCollector.append(i)\n",
    "        sorting=numberCollector.sort()\n",
    "    print(\"The largest number here is\" , numberCollector[-1])\n",
    "        \n",
    "larger(500,5000000,65346546,10,100,1)\n",
    "    "
   ]
  },
  {
   "cell_type": "markdown",
   "metadata": {},
   "source": [
    "# 19.​ Write a Python program to get the smallest number from a list."
   ]
  },
  {
   "cell_type": "code",
   "execution_count": null,
   "metadata": {},
   "outputs": [],
   "source": [
    "def smaller(*args):\n",
    "    numberCollector=[]\n",
    "    for i in args:\n",
    "        numberCollector.append(i)\n",
    "        sorting=numberCollector.sort()\n",
    "    print(\"The smallest number here is\" , numberCollector[0])\n",
    "        \n",
    "smaller(500,5000000,0,65346546,10,100,1)\n",
    "\n"
   ]
  },
  {
   "cell_type": "markdown",
   "metadata": {},
   "source": [
    "# 20.​ Write a Python program to count the number of strings where the string length is 2 or more and the first and last character are same from a given list of strings.\n",
    "\n",
    "Sample List : ['abc', 'xyz', 'aba', '1221']\n",
    "\n",
    "Expected Result : 2"
   ]
  },
  {
   "cell_type": "code",
   "execution_count": 66,
   "metadata": {},
   "outputs": [
    {
     "name": "stdout",
     "output_type": "stream",
     "text": [
      "2\n"
     ]
    }
   ],
   "source": [
    "sampleList=['abc', 'xyz', 'aba', '1221']\n",
    "match = 0\n",
    "\n",
    "for word in sampleList:\n",
    "    if len(word) > 1 and word[0] == word[-1]:\n",
    "        match =match+ 1\n",
    "print(match)\n",
    "        \n",
    "    \n",
    "      \n",
    "  \n"
   ]
  },
  {
   "cell_type": "code",
   "execution_count": null,
   "metadata": {},
   "outputs": [],
   "source": []
  },
  {
   "cell_type": "markdown",
   "metadata": {},
   "source": [
    "# 21.​ Write a Python program to get a list, sorted in increasing order by the last element in each tuple from a given list of non-empty tuples.\n",
    "Sample List : [(2, 5), (1, 2), (4, 4), (2, 3), (2, 1)]\n",
    "\n",
    "Expected Result : [(2, 1), (1, 2), (2, 3), (4, 4), (2, 5)]"
   ]
  },
  {
   "cell_type": "code",
   "execution_count": 143,
   "metadata": {},
   "outputs": [
    {
     "name": "stdout",
     "output_type": "stream",
     "text": [
      "Sorted:\n",
      "[(2, 1), (1, 2), (2, 3), (4, 4), (2, 5)]\n"
     ]
    }
   ],
   "source": [
    "\n",
    "def last(n): \n",
    "    return n[m] \n",
    "\n",
    "def sort(tuples): \n",
    "\n",
    "    return sorted(tuples, key = last) \n",
    "\n",
    "# driver code \n",
    "a = [(2, 5), (1, 2), (4, 4), (2, 3), (2, 1)] \n",
    "m = 1\n",
    "print(\"Sorted:\"), \n",
    "print(sort(a)) \n"
   ]
  },
  {
   "cell_type": "code",
   "execution_count": null,
   "metadata": {},
   "outputs": [],
   "source": []
  },
  {
   "cell_type": "markdown",
   "metadata": {},
   "source": [
    "# 22. ​ Write a Python program to remove duplicates from a list."
   ]
  },
  {
   "cell_type": "code",
   "execution_count": 76,
   "metadata": {},
   "outputs": [
    {
     "name": "stdout",
     "output_type": "stream",
     "text": [
      "List with duplicate values: [10, 20, 30, 20, 10, 50, 60, 40, 80, 50, 40]\n",
      "The list with no duplicate values : [10, 20, 30, 40, 50, 60, 80]\n"
     ]
    }
   ],
   "source": [
    "# initializing list \n",
    "originaList = [10,20,30,20,10,50,60,40,80,50,40] \n",
    "print (\"List with duplicate values: \" + str(originaList)) \n",
    "\n",
    "originaList = list(set(originaList)) \n",
    "originaList.sort()\n",
    "\n",
    "print (\"The list with no duplicate values : \" + str(originaList)) "
   ]
  },
  {
   "cell_type": "code",
   "execution_count": null,
   "metadata": {},
   "outputs": [],
   "source": []
  },
  {
   "cell_type": "code",
   "execution_count": null,
   "metadata": {},
   "outputs": [],
   "source": []
  },
  {
   "cell_type": "markdown",
   "metadata": {},
   "source": [
    "# 23.Write a Python program to check a list is empty or not."
   ]
  },
  {
   "cell_type": "code",
   "execution_count": null,
   "metadata": {},
   "outputs": [],
   "source": [
    "a=[]\n",
    "if not a:\n",
    "    print(\"I'm empty\")\n",
    "else:\n",
    "    print(\"The list is not empty\")"
   ]
  },
  {
   "cell_type": "markdown",
   "metadata": {},
   "source": [
    "# 24. ​ Write a Python program to clone or copy a list."
   ]
  },
  {
   "cell_type": "code",
   "execution_count": null,
   "metadata": {},
   "outputs": [],
   "source": [
    "newList=[1,2,3,4]\n",
    "copiedList=newList\n",
    "print(\"User List:\", newList)\n",
    "print(\"-----------------------------Copying---------------------------\")\n",
    "print(\"Copied List\",copiedList)"
   ]
  },
  {
   "cell_type": "code",
   "execution_count": null,
   "metadata": {},
   "outputs": [],
   "source": []
  },
  {
   "cell_type": "markdown",
   "metadata": {},
   "source": [
    "# 25.​ Write a Python program to check whether all dictionaries in a list are empty or\n",
    "not.\n",
    "\n",
    "Sample list : [{},{},{}]\n",
    "\n",
    "Return value : True\n",
    "\n",
    "Sample list : [{1,2},{},{}]\n",
    "\n",
    "Return value : False"
   ]
  },
  {
   "cell_type": "code",
   "execution_count": 77,
   "metadata": {},
   "outputs": [
    {
     "name": "stdout",
     "output_type": "stream",
     "text": [
      "Empty: True\n"
     ]
    }
   ],
   "source": [
    "dictionary=[{},{}]\n",
    "for i in dictionary:\n",
    "    if i:\n",
    "        print(\"Empty: False\")\n",
    "        break\n",
    "    else:\n",
    "        print(\"Empty: True\")\n",
    "        break"
   ]
  },
  {
   "cell_type": "code",
   "execution_count": null,
   "metadata": {},
   "outputs": [],
   "source": []
  },
  {
   "cell_type": "markdown",
   "metadata": {},
   "source": [
    "# 26.​ Write a Python program to insert a given string at the beginning of all items in a list.\n",
    "\n",
    "Sample list : [1,2,3,4], string : emp\n",
    "\n",
    "Expected output : ['emp1', 'emp2', 'emp3', 'emp4']"
   ]
  },
  {
   "cell_type": "code",
   "execution_count": null,
   "metadata": {},
   "outputs": [],
   "source": [
    "addTo=[1,2,3,4,5]\n",
    "added=[]\n",
    "def stringAdder(stringToAdd):\n",
    "    \n",
    "    for i in addTo:\n",
    "        added.append(f\"{stringToAdd}{i}\")\n",
    "    print(added)\n",
    "        \n",
    "stringAdder(\"emp\")"
   ]
  },
  {
   "cell_type": "markdown",
   "metadata": {},
   "source": [
    "# 27.​ Write a Python program to replace the last element in a list with another list.\n",
    "\n",
    "Sample data : [1, 3, 5, 7, 9, 10], [2, 4, 6, 8]\n",
    "\n",
    "Expected Output: [1, 3, 5, 7, 9, 2, 4, 6, 8]"
   ]
  },
  {
   "cell_type": "code",
   "execution_count": 152,
   "metadata": {},
   "outputs": [
    {
     "name": "stdout",
     "output_type": "stream",
     "text": [
      "[[1, 3, 5, 7, 9], [2, 4, 6, 8]]\n"
     ]
    }
   ],
   "source": [
    "sampleData=[[1,3,5,7,9,10],[2,4,6,8]]\n",
    "del sampleData[0][-1]\n",
    "print(sampleData)\n"
   ]
  },
  {
   "cell_type": "code",
   "execution_count": null,
   "metadata": {},
   "outputs": [],
   "source": []
  },
  {
   "cell_type": "markdown",
   "metadata": {},
   "source": [
    " # 28.​ Write a Python script to add a key to a dictionary."
   ]
  },
  {
   "cell_type": "code",
   "execution_count": 153,
   "metadata": {},
   "outputs": [
    {
     "name": "stdout",
     "output_type": "stream",
     "text": [
      "{0: 10, 1: 20, 2: 30}\n"
     ]
    }
   ],
   "source": [
    "key = {0:10, 1:20}\n",
    "\n",
    "key.update({2:30})\n",
    "print(key)"
   ]
  },
  {
   "cell_type": "markdown",
   "metadata": {},
   "source": [
    "# 29.​ Write a Python script to concatenate following dictionaries to create a new one.\n",
    "\n",
    "Sample Dictionary :\n",
    "\n",
    "dic1={1:10, 2:20}\n",
    "\n",
    "dic2={3:30, 4:40}\n",
    "\n",
    "dic3={5:50,6:60}\n",
    "\n",
    "Expected Result : {1: 10, 2: 20, 3: 30, 4: 40, 5: 50, 6: 60}"
   ]
  },
  {
   "cell_type": "code",
   "execution_count": 154,
   "metadata": {},
   "outputs": [
    {
     "name": "stdout",
     "output_type": "stream",
     "text": [
      "{1: 10, 2: 20, 3: 30, 4: 40, 5: 50, 6: 60}\n"
     ]
    }
   ],
   "source": [
    "dic1={1:10, 2:20}\n",
    "\n",
    "dic2={3:30, 4:40}\n",
    "\n",
    "dic3={5:50,6:60}\n",
    "dic4={}\n",
    "for dic in (dic1,dic2,dic3):\n",
    "    dic4.update(dic)\n",
    "print(dic4)"
   ]
  },
  {
   "cell_type": "code",
   "execution_count": null,
   "metadata": {},
   "outputs": [],
   "source": []
  },
  {
   "cell_type": "markdown",
   "metadata": {},
   "source": [
    "# 30.​ Write a Python script to check whether a given key already exists in a dictionary."
   ]
  },
  {
   "cell_type": "code",
   "execution_count": null,
   "metadata": {},
   "outputs": [],
   "source": [
    "dictionary={\"key\":\"value\",\"anotherKey\":\"anotherValue\",\"thirdKey\":\"thirdValue\"}\n",
    "keyHolder=dictionary.keys()\n",
    "\n",
    "userKey=input(\"enter the key you want to check \")\n",
    "\n",
    "if userKey in keyHolder:\n",
    "    print(f\"This Key is named as {userKey} is already in use \" )\n",
    "else:\n",
    "    print(f\"The key {userKey} is used nowhere\")\n",
    "\n",
    "\n"
   ]
  },
  {
   "cell_type": "code",
   "execution_count": null,
   "metadata": {},
   "outputs": [],
   "source": []
  },
  {
   "cell_type": "markdown",
   "metadata": {},
   "source": [
    "# 31.​ Write a Python program to iterate over dictionaries using for loops."
   ]
  },
  {
   "cell_type": "code",
   "execution_count": null,
   "metadata": {},
   "outputs": [],
   "source": [
    "dicForIteration=[{2:5,4:7,3:9}]\n",
    "for iteration in dicForIteration:\n",
    "    print(iteration.keys(),iteration.values())"
   ]
  },
  {
   "cell_type": "code",
   "execution_count": null,
   "metadata": {},
   "outputs": [],
   "source": []
  },
  {
   "cell_type": "markdown",
   "metadata": {},
   "source": [
    "# 32.  Write a Python script to generate and print a dictionary that contains a number (between 1 and n) in the form (x, x*x).\n",
    "\n",
    "Sample Dictionary ( n = 5) :\n",
    "\n",
    "Expected Output : {1: 1, 2: 4, 3: 9, 4: 16, 5: 25}\n"
   ]
  },
  {
   "cell_type": "markdown",
   "metadata": {},
   "source": [
    "\n"
   ]
  },
  {
   "cell_type": "code",
   "execution_count": null,
   "metadata": {},
   "outputs": [],
   "source": [
    "userinput = 5\n",
    "iterationOver = userinput+1\n",
    "\n",
    "keys = []\n",
    "values = []\n",
    "print(userinput)\n",
    "\n",
    "# For keys\n",
    "while iterationOver > 1:\n",
    "    iterationOver = iterationOver-1\n",
    "    keys.append(iterationOver)\n",
    "keys.sort()\n",
    "# For values\n",
    "\n",
    "for val in keys:\n",
    "    values.append(val*val)\n",
    "values.sort()\n",
    "\n",
    "print(keys, values)\n",
    "\n",
    "result = dict(zip(keys, values))\n",
    "print(result)\n"
   ]
  },
  {
   "cell_type": "code",
   "execution_count": null,
   "metadata": {},
   "outputs": [],
   "source": []
  },
  {
   "cell_type": "markdown",
   "metadata": {},
   "source": [
    "# 33.  Write a Python script to print a dictionary where the keys are numbers between 1 and 15 (both included) and the values are square of keys\n",
    "\n",
    "Sample Dictionary\n",
    "\n",
    "{1: 1, 2: 4, 3: 9, 4: 16, 5: 25, 6: 36, 7: 49, 8: 64, 9: 81, 10: 100, 11: 121, 12: 144,\n",
    "13: 169, 14: 196, 15: 225}"
   ]
  },
  {
   "cell_type": "code",
   "execution_count": null,
   "metadata": {},
   "outputs": [],
   "source": [
    "def square(a,b):\n",
    "    keys=[]\n",
    "    values=[]\n",
    "    for i in range(a,b+1):\n",
    "        keys.append(i)\n",
    "    keys.sort()\n",
    "    \n",
    "    for val in keys:\n",
    "        values.append(val*val)\n",
    "        values.sort()\n",
    "    result = dict(zip(keys, values))\n",
    "    print(result)\n",
    "\n",
    "\n",
    "square(1,15)\n"
   ]
  },
  {
   "cell_type": "code",
   "execution_count": null,
   "metadata": {},
   "outputs": [],
   "source": []
  },
  {
   "cell_type": "markdown",
   "metadata": {},
   "source": [
    "# 34.​ Write a Python script to merge two Python dictionaries."
   ]
  },
  {
   "cell_type": "code",
   "execution_count": null,
   "metadata": {},
   "outputs": [],
   "source": [
    "a={\"one\":1,\"two\":2,\"three\":3}\n",
    "b={\"three\":3,\"four\":4,\"five\":5}\n",
    "merg={}\n",
    "for m in (a,b):\n",
    "    merg.update(m)\n",
    "print(merg)"
   ]
  },
  {
   "cell_type": "markdown",
   "metadata": {},
   "source": [
    "Question number 35 is same as 31"
   ]
  },
  {
   "cell_type": "code",
   "execution_count": null,
   "metadata": {},
   "outputs": [],
   "source": []
  },
  {
   "cell_type": "markdown",
   "metadata": {},
   "source": [
    "# 36.​ Write a Python program to sum all the items in a dictionary."
   ]
  },
  {
   "cell_type": "code",
   "execution_count": null,
   "metadata": {},
   "outputs": [],
   "source": [
    "sumDictionary={\"a\":9,\"b\":6,\"c\":7}\n",
    "print(sum(sumDictionary.values()))\n"
   ]
  },
  {
   "cell_type": "markdown",
   "metadata": {},
   "source": [
    "\n",
    "# 37.​ Write a Python program to multiply all the items in a dictionary."
   ]
  },
  {
   "cell_type": "code",
   "execution_count": null,
   "metadata": {},
   "outputs": [],
   "source": [
    "mulDictionary={\"a\":9,\"b\":6,\"c\":7}\n",
    "\n",
    "values=list(mulDictionary.values()) \n",
    "total=1\n",
    "for m in values:\n",
    "    total=total * m\n",
    "print(total)\n",
    "    "
   ]
  },
  {
   "cell_type": "markdown",
   "metadata": {},
   "source": [
    "# 38.​ Write a Python program to remove a key from a dictionary."
   ]
  },
  {
   "cell_type": "code",
   "execution_count": null,
   "metadata": {},
   "outputs": [],
   "source": [
    "myDict = {\"a\":9,\"b\":6,\"c\":7,\"d\":4}\n",
    "delete=input(\"Enter a key to remove\")\n",
    "if delete in myDict: \n",
    "    del myDict[delete]\n",
    "else:\n",
    "    print(\"The entered key doesn't exist\")\n",
    "print(myDict)"
   ]
  },
  {
   "cell_type": "code",
   "execution_count": null,
   "metadata": {},
   "outputs": [],
   "source": []
  },
  {
   "cell_type": "markdown",
   "metadata": {},
   "source": [
    "# 39.​ Write a Python program to unpack a tuple in several variables."
   ]
  },
  {
   "cell_type": "code",
   "execution_count": 79,
   "metadata": {},
   "outputs": [
    {
     "name": "stdout",
     "output_type": "stream",
     "text": [
      "ISMT\n",
      "11000\n",
      "IT\n"
     ]
    }
   ],
   "source": [
    "\n",
    "a = (\"ISMT\", 11000, \"IT\") \n",
    "\n",
    "(college, student, field) = a \n",
    "\n",
    "\n",
    "print(college) \n",
    " \n",
    "print(student) \n",
    "\n",
    "print(field) \n"
   ]
  },
  {
   "cell_type": "code",
   "execution_count": null,
   "metadata": {},
   "outputs": [],
   "source": []
  },
  {
   "cell_type": "markdown",
   "metadata": {},
   "source": [
    "# 40.​ Write a Python program to add an item in a tuple.\n",
    "\n",
    "\n",
    "\n",
    "\n",
    "\n",
    "\n",
    "\n"
   ]
  },
  {
   "cell_type": "code",
   "execution_count": null,
   "metadata": {},
   "outputs": [],
   "source": [
    "tuples=(12,13)\n",
    "item=(13,14)\n",
    "addItem=tuples+item\n",
    "print(addItem)"
   ]
  },
  {
   "cell_type": "markdown",
   "metadata": {},
   "source": [
    "# 41.​ Write a Python program to convert a tuple to a string."
   ]
  },
  {
   "cell_type": "code",
   "execution_count": null,
   "metadata": {},
   "outputs": [],
   "source": [
    "a=(\"suyog\",\"subedi\")\n",
    "print(a)\n",
    "print(type(a))\n",
    "stringify= str(a)\n",
    "print(stringify)\n",
    "type(stringify)\n"
   ]
  },
  {
   "cell_type": "markdown",
   "metadata": {},
   "source": [
    "# 42.​ Write a Python program to convert a list to a tuple."
   ]
  },
  {
   "cell_type": "code",
   "execution_count": null,
   "metadata": {},
   "outputs": [],
   "source": [
    "lists=[1,2,3,4,5,6]\n",
    "print(\"---------list----------------------------\")\n",
    "print(lists)\n",
    "print(\"---------tuple----------------------------\")\n",
    "print(tuple(lists))\n"
   ]
  },
  {
   "cell_type": "markdown",
   "metadata": {},
   "source": [
    "# 43.​ Write a Python program to remove an item from a tuple."
   ]
  },
  {
   "cell_type": "code",
   "execution_count": 158,
   "metadata": {},
   "outputs": [
    {
     "name": "stdout",
     "output_type": "stream",
     "text": [
      "After Removal : [(5, 7), (7, 2, 4), (7,), (10, 8)]\n"
     ]
    }
   ],
   "source": [
    "\n",
    "test_list = [(5, 6, 7), (7, 2, 4, 6), (6, 6, 7), (6, 10, 8)] \n",
    "\n",
    "\n",
    "# declaring remove element \n",
    "N = 6\n",
    "\n",
    "res = [tuple(ele for ele in sub if ele != N) for sub in test_list] \n",
    "\n",
    "# printing result \n",
    "print(\"After Removal : \" + str(res)) \n"
   ]
  },
  {
   "cell_type": "markdown",
   "metadata": {},
   "source": [
    "# 44.​ Write a Python program to slice a tuple.\n",
    "\n",
    "\n"
   ]
  },
  {
   "cell_type": "code",
   "execution_count": 164,
   "metadata": {},
   "outputs": [
    {
     "name": "stdout",
     "output_type": "stream",
     "text": [
      "(5, 7, 8)\n"
     ]
    }
   ],
   "source": [
    "\n",
    "tup = (4, 8, 6, 5, 7, 8, 1)\n",
    "\n",
    "_slice = tup[3:6]\n",
    "print(_slice)"
   ]
  },
  {
   "cell_type": "markdown",
   "metadata": {},
   "source": [
    "# 45.​ Write a Python program to find the index of an item of a tuple."
   ]
  },
  {
   "cell_type": "code",
   "execution_count": 168,
   "metadata": {},
   "outputs": [
    {
     "name": "stdout",
     "output_type": "stream",
     "text": [
      "(2, 4, 3, 5, 4, 6, 7, 8, 6, 1)\n",
      "8\n"
     ]
    }
   ],
   "source": [
    "tup = tuple(\"index tuple\")\n",
    "print(tuplex)\n",
    "\n",
    "index = tup.index(\"p\")\n",
    "print(index)"
   ]
  },
  {
   "cell_type": "markdown",
   "metadata": {},
   "source": [
    "# 46.​ Write a Python program to find the length of a tuple"
   ]
  },
  {
   "cell_type": "code",
   "execution_count": 169,
   "metadata": {},
   "outputs": [
    {
     "name": "stdout",
     "output_type": "stream",
     "text": [
      "('s', 'u', 'y', 'o', 'g')\n",
      "5\n"
     ]
    }
   ],
   "source": [
    "\n",
    "lengthTuple = tuple(\"suyog\")\n",
    "print(lengthTuple)\n",
    "#use the len() function to known the length of tuple\n",
    "print(len(lengthTuple))"
   ]
  },
  {
   "cell_type": "code",
   "execution_count": null,
   "metadata": {},
   "outputs": [],
   "source": []
  },
  {
   "cell_type": "markdown",
   "metadata": {},
   "source": [
    "\n",
    "# Functions"
   ]
  },
  {
   "cell_type": "markdown",
   "metadata": {},
   "source": [
    "1.​ Write a Python function to find the Max of three numbers."
   ]
  },
  {
   "cell_type": "code",
   "execution_count": null,
   "metadata": {},
   "outputs": [],
   "source": [
    "def maxNum(a,b,c):\n",
    "    max(a,b,c)\n",
    "\n",
    "max(5,15,9)"
   ]
  },
  {
   "cell_type": "markdown",
   "metadata": {},
   "source": [
    "# 2.​ Write a Python function to sum all the numbers in a list.\n",
    "\n",
    "Sample List : ​ (8, 2, 3, 0, 7)\n",
    "\n",
    "Expected Output ​ : 20"
   ]
  },
  {
   "cell_type": "code",
   "execution_count": null,
   "metadata": {},
   "outputs": [],
   "source": [
    "def add(*args):\n",
    "    return sum(args)\n",
    "add(5,7,8,9)"
   ]
  },
  {
   "cell_type": "markdown",
   "metadata": {},
   "source": [
    "# ​3.  Write a Python function to multiply all the numbers in a list.\n",
    "\n",
    "Sample List : ​ (8, 2, 3, -1, 7)\n",
    "\n",
    "Expected Output ​ : -336"
   ]
  },
  {
   "cell_type": "code",
   "execution_count": null,
   "metadata": {},
   "outputs": [],
   "source": [
    "def multiplier(numbers):  \n",
    "    answer = 1\n",
    "    for x in numbers:\n",
    "        answer *= x  \n",
    "    return answer  \n",
    "print(multiplier((8, 2, 3, -1, 7)))"
   ]
  },
  {
   "cell_type": "markdown",
   "metadata": {},
   "source": [
    "# 4.  Write a Python program to reverse a string.\n",
    "Sample String ​ : \"1234abcd\"\n",
    "\n",
    "Expected Output ​ : \"dcba4321\""
   ]
  },
  {
   "cell_type": "code",
   "execution_count": null,
   "metadata": {},
   "outputs": [],
   "source": [
    "def reverser(string):\n",
    "    return string[::-1]\n",
    "reverser(\"1234abcd\")"
   ]
  },
  {
   "cell_type": "markdown",
   "metadata": {},
   "source": [
    "# 5.​ Write a Python function to calculate the factorial of a number (a non-negativeinteger). The function accepts the number as an argument."
   ]
  },
  {
   "cell_type": "code",
   "execution_count": null,
   "metadata": {},
   "outputs": [],
   "source": [
    "i=8\n",
    "while i>0:\n",
    "    print(i)\n",
    "    i-=1"
   ]
  },
  {
   "cell_type": "code",
   "execution_count": null,
   "metadata": {},
   "outputs": [],
   "source": [
    "def factorial(number):\n",
    "    i=number\n",
    "    numberHolder=[]\n",
    "    answer = 1\n",
    "    while i>0:\n",
    "        \n",
    "        numberHolder.append(i)\n",
    "        i-=1\n",
    "       \n",
    "    for x in numberHolder:\n",
    "        answer *= x  \n",
    "    return answer  \n",
    "\n",
    "        \n",
    "    print(numberHolder)\n",
    "factorial(5)"
   ]
  },
  {
   "cell_type": "code",
   "execution_count": null,
   "metadata": {},
   "outputs": [],
   "source": []
  },
  {
   "cell_type": "markdown",
   "metadata": {},
   "source": [
    "# 6. Write a Python function to check whether a number is in a given range."
   ]
  },
  {
   "cell_type": "code",
   "execution_count": 80,
   "metadata": {},
   "outputs": [
    {
     "name": "stdout",
     "output_type": "stream",
     "text": [
      "[0, 2, 4, 6, 8]\n"
     ]
    }
   ],
   "source": [
    "print(list(range(0,10,2)))"
   ]
  },
  {
   "cell_type": "code",
   "execution_count": 89,
   "metadata": {},
   "outputs": [
    {
     "name": "stdout",
     "output_type": "stream",
     "text": [
      " 5 is inside the given range\n"
     ]
    }
   ],
   "source": [
    "def test_range(n):\n",
    "    if n in range(3,9):\n",
    "        print( f\" {str(n)} is inside the given range\")\n",
    "    else :\n",
    "        print(\"Not in the given range.\")\n",
    "test_range(5)"
   ]
  },
  {
   "cell_type": "code",
   "execution_count": null,
   "metadata": {},
   "outputs": [],
   "source": []
  },
  {
   "cell_type": "markdown",
   "metadata": {},
   "source": [
    "# 7. Write a Python function that accepts a string and calculate the number of upper case letters and lower case letters."
   ]
  },
  {
   "cell_type": "code",
   "execution_count": null,
   "metadata": {},
   "outputs": [],
   "source": [
    "def upperCaseCalculator(string):\n",
    "    upper=0\n",
    "    lower=0\n",
    "    for i in string:\n",
    "        if i.isupper():\n",
    "            upper+=1\n",
    "        else:\n",
    "            lower+=1\n",
    "    print(\"No. of Upper case characters :\",upper)\n",
    "    print(\"No. of Lower case characters :\",lower)\n",
    "    \n",
    "upperCaseCalculator(\"The quick Brow Fox\")"
   ]
  },
  {
   "cell_type": "markdown",
   "metadata": {},
   "source": [
    "# 8.​ Write a Python function that takes a list and returns a new list with unique elements of the first list.\n",
    "\n",
    "Sample List : ​ [1,2,3,3,3,3,4,5]\n",
    "\n",
    "Unique List : ​ [1, 2, 3, 4, 5]"
   ]
  },
  {
   "cell_type": "code",
   "execution_count": 177,
   "metadata": {},
   "outputs": [
    {
     "name": "stdout",
     "output_type": "stream",
     "text": [
      "[1, 2, 3, 4, 5]\n"
     ]
    }
   ],
   "source": [
    "def unique(*args):\n",
    "    print(list(set(args)))\n",
    "unique(1,2,3,3,3,3,4,5)"
   ]
  },
  {
   "cell_type": "markdown",
   "metadata": {},
   "source": [
    "# 9.​ Write a Python function that takes a number as a parameter and check the number is prime or not."
   ]
  },
  {
   "cell_type": "code",
   "execution_count": null,
   "metadata": {},
   "outputs": [],
   "source": []
  },
  {
   "cell_type": "code",
   "execution_count": null,
   "metadata": {},
   "outputs": [],
   "source": [
    "def primeFinder(num):\n",
    "    for i in range(2,num):\n",
    "        if num%i==0:\n",
    "            print(f\"Not a prime Homie, it was divided by {i}\")\n",
    "            break\n",
    "        else:\n",
    "            print(\"Its a prime\")\n",
    "            break\n",
    "primeFinder(6)"
   ]
  },
  {
   "cell_type": "markdown",
   "metadata": {},
   "source": [
    "# 10.​ Write a Python program to print the even numbers from a given list.\n",
    "\n",
    "Sample List : ​ [1, 2, 3, 4, 5, 6, 7, 8, 9]\n",
    "\n",
    "Expected Result ​ : [2, 4, 6, 8]"
   ]
  },
  {
   "cell_type": "code",
   "execution_count": null,
   "metadata": {},
   "outputs": [],
   "source": [
    "num=[2,4,6,5,7,8]\n",
    "even=[]\n",
    "for i in num:\n",
    "    if i%2==0:\n",
    "        even.append(i)\n",
    "print(even)\n"
   ]
  },
  {
   "cell_type": "code",
   "execution_count": null,
   "metadata": {},
   "outputs": [],
   "source": [
    "\n"
   ]
  },
  {
   "cell_type": "markdown",
   "metadata": {},
   "source": [
    "# 11.​ Write a Python program to create a lambda function that adds 15 to a given number passed in as an argument, also create a lambda function that multiplies argument x with argument y and print the result."
   ]
  },
  {
   "cell_type": "code",
   "execution_count": 90,
   "metadata": {},
   "outputs": [
    {
     "name": "stdout",
     "output_type": "stream",
     "text": [
      "20\n"
     ]
    },
    {
     "data": {
      "text/plain": [
       "30"
      ]
     },
     "execution_count": 90,
     "metadata": {},
     "output_type": "execute_result"
    }
   ],
   "source": [
    "add = lambda a : a + 15\n",
    "print(add(5))\n",
    "\n",
    "multiply= lambda a,b:a*b\n",
    "multiply(5,6)\n"
   ]
  },
  {
   "cell_type": "markdown",
   "metadata": {},
   "source": [
    "# 12.​ Write a Python program to create a function that takes one argument, and that argument will be multiplied with an unknown given number"
   ]
  },
  {
   "cell_type": "code",
   "execution_count": 99,
   "metadata": {},
   "outputs": [
    {
     "name": "stdout",
     "output_type": "stream",
     "text": [
      "30\n"
     ]
    }
   ],
   "source": [
    "def multiply(n):\n",
    " return lambda x : x * n\n",
    "result = multiply(2)\n",
    "print(result(15))"
   ]
  },
  {
   "cell_type": "code",
   "execution_count": null,
   "metadata": {},
   "outputs": [],
   "source": []
  },
  {
   "cell_type": "code",
   "execution_count": null,
   "metadata": {},
   "outputs": [],
   "source": []
  },
  {
   "cell_type": "markdown",
   "metadata": {},
   "source": [
    "# 13.​ Write a Python program to sort a list of tuples using Lambda."
   ]
  },
  {
   "cell_type": "code",
   "execution_count": 103,
   "metadata": {},
   "outputs": [
    {
     "name": "stdout",
     "output_type": "stream",
     "text": [
      "[('smriti', 45), ('sakshi', 95), ('suyog', 70), ('kiran', 82)]\n",
      "[('smriti', 45), ('suyog', 70), ('kiran', 82), ('sakshi', 95)]\n"
     ]
    }
   ],
   "source": [
    "weight = [('smriti', 45), ('sakshi', 95), ('suyog', 70), ('kiran', 82)]\n",
    "\n",
    "print(weight)\n",
    "weight.sort(key = lambda x: x[1])\n",
    "\n",
    "print(weight)"
   ]
  },
  {
   "cell_type": "markdown",
   "metadata": {},
   "source": [
    "# 14.​ Write a Python program to sort a list of dictionaries using Lambda."
   ]
  },
  {
   "cell_type": "code",
   "execution_count": 108,
   "metadata": {},
   "outputs": [
    {
     "name": "stdout",
     "output_type": "stream",
     "text": [
      "[{'name': 'suyog', 'age': 20, 'race': 'Brown'}, {'name': 'sakshi', 'age': 25, 'race': 'Black'}, {'name': 'smriti', 'age': 23, 'race': 'Brown'}]\n"
     ]
    }
   ],
   "source": [
    "dictionary = [{'name':'suyog', 'age':20, 'race':'Brown'}, {'name':'sakshi', 'age':25, 'race':'Black'}, {'name':'smriti', 'age':23, 'race':'Brown'}]\n",
    "\n",
    "sorted_dictionary = sorted(dictionary, key = lambda x: x['race'])\n",
    "\n",
    "print(dictionary)"
   ]
  },
  {
   "cell_type": "code",
   "execution_count": null,
   "metadata": {},
   "outputs": [],
   "source": []
  },
  {
   "cell_type": "markdown",
   "metadata": {},
   "source": [
    "# 15.​ Write a Python program to filter a list of integers using Lambda.\n"
   ]
  },
  {
   "cell_type": "code",
   "execution_count": 110,
   "metadata": {},
   "outputs": [
    {
     "name": "stdout",
     "output_type": "stream",
     "text": [
      "[1, 2, 3, 4, 5, 6, 7, 8, 9, 10]\n",
      "Odd numbers\n",
      "[1, 3, 5, 7, 9]\n"
     ]
    }
   ],
   "source": [
    "nums = [1, 2, 3, 4, 5, 6, 7, 8, 9, 10]\n",
    "print(nums)\n",
    "print(\"Odd numbers\")\n",
    "odd_nums = list(filter(lambda x: x%2 != 0, nums))\n",
    "print(odd_nums)"
   ]
  },
  {
   "cell_type": "markdown",
   "metadata": {},
   "source": [
    "# 16.​ Write a Python program to square and cube every number in a given list of integers using Lambda."
   ]
  },
  {
   "cell_type": "code",
   "execution_count": 116,
   "metadata": {},
   "outputs": [
    {
     "name": "stdout",
     "output_type": "stream",
     "text": [
      "SQUARE--------------- [1, 4, 9, 16, 25, 36, 49, 64, 81, 100]\n",
      "CUBES--------------- [1, 8, 27, 64, 125, 216, 343, 512, 729, 1000]\n"
     ]
    }
   ],
   "source": [
    "nums = [1, 2, 3, 4, 5, 6, 7, 8, 9, 10]\n",
    "\n",
    "square_nums = list(map(lambda x: x ** 2, nums))\n",
    "\n",
    "print(\"SQUARE---------------\",square_nums)\n",
    "\n",
    "cube_nums = list(map(lambda x: x ** 3, nums))\n",
    "\n",
    "\n",
    "print(\"CUBES---------------\",cube_nums)"
   ]
  },
  {
   "cell_type": "code",
   "execution_count": null,
   "metadata": {},
   "outputs": [],
   "source": []
  },
  {
   "cell_type": "markdown",
   "metadata": {},
   "source": [
    "# 17.​ Write a Python program to find if a given string starts with a given character using Lambda"
   ]
  },
  {
   "cell_type": "code",
   "execution_count": 125,
   "metadata": {},
   "outputs": [
    {
     "name": "stdout",
     "output_type": "stream",
     "text": [
      "True\n"
     ]
    }
   ],
   "source": [
    "starts_with = lambda x: True if x.startswith('P') else False\n",
    "print(starts_with('Python'))\n"
   ]
  },
  {
   "cell_type": "code",
   "execution_count": null,
   "metadata": {},
   "outputs": [],
   "source": []
  },
  {
   "cell_type": "markdown",
   "metadata": {},
   "source": [
    "# 18.​ Write a Python program to check whether a given string is number or not using Lambda."
   ]
  },
  {
   "cell_type": "code",
   "execution_count": 131,
   "metadata": {},
   "outputs": [
    {
     "name": "stdout",
     "output_type": "stream",
     "text": [
      "False\n",
      "True\n"
     ]
    }
   ],
   "source": [
    "numChecker = lambda q: q.replace('.','',1).isdigit()\n",
    "print(numChecker('adsad5'))\n",
    "print(numChecker('5'))"
   ]
  },
  {
   "cell_type": "markdown",
   "metadata": {},
   "source": [
    "# 19.​ Write a Python program to create Fibonacci series upto n using Lambda."
   ]
  },
  {
   "cell_type": "code",
   "execution_count": 132,
   "metadata": {},
   "outputs": [
    {
     "name": "stdout",
     "output_type": "stream",
     "text": [
      "[0, 1, 1, 2, 3]\n"
     ]
    }
   ],
   "source": [
    "from functools import reduce\n",
    "\n",
    "fib = lambda n: reduce(lambda x, _: x+[x[-1]+x[-2]], \n",
    "\t\t\t\t\t\t\t\trange(n-2), [0, 1]) \n",
    "\n",
    "print(fib(5)) \n"
   ]
  },
  {
   "cell_type": "code",
   "execution_count": null,
   "metadata": {},
   "outputs": [],
   "source": []
  },
  {
   "cell_type": "code",
   "execution_count": null,
   "metadata": {},
   "outputs": [],
   "source": []
  },
  {
   "cell_type": "markdown",
   "metadata": {},
   "source": [
    "# 20.​ Write a Python program to find intersection of two given arrays using Lambda."
   ]
  },
  {
   "cell_type": "code",
   "execution_count": 134,
   "metadata": {},
   "outputs": [
    {
     "name": "stdout",
     "output_type": "stream",
     "text": [
      "Intersection :  [3, 5]\n"
     ]
    }
   ],
   "source": [
    "def interSection(arr1,arr2): \n",
    "\n",
    " \n",
    "    result = list(filter(lambda x: x in arr1, arr2)) \n",
    "    print (\"Intersection : \",result) \n",
    "\n",
    "# Driver program \n",
    "if __name__ == \"__main__\": \n",
    "    arr1 = [1, 3, 4, 5, 7] \n",
    "    arr2 = [2, 3, 5, 6] \n",
    "\n",
    "    interSection(arr1,arr2) \n"
   ]
  },
  {
   "cell_type": "code",
   "execution_count": null,
   "metadata": {},
   "outputs": [],
   "source": []
  }
 ],
 "metadata": {
  "kernelspec": {
   "display_name": "Python 3",
   "language": "python",
   "name": "python3"
  },
  "language_info": {
   "codemirror_mode": {
    "name": "ipython",
    "version": 3
   },
   "file_extension": ".py",
   "mimetype": "text/x-python",
   "name": "python",
   "nbconvert_exporter": "python",
   "pygments_lexer": "ipython3",
   "version": "3.8.2"
  }
 },
 "nbformat": 4,
 "nbformat_minor": 4
}
